{
 "cells": [
  {
   "cell_type": "markdown",
   "metadata": {},
   "source": [
    "# Pracownia z Analizy Numerycznej (M), zadanie P.3.5, Mateusz Basiak"
   ]
  },
  {
   "cell_type": "code",
   "execution_count": 1,
   "metadata": {
    "scrolled": true
   },
   "outputs": [],
   "source": [
    "#algorithm(F, s_0, g_0, l, n) - Główna funkcja algorytmu. Wywołuje ona pozostałe funkcje z odpowiednimi argumentami.\n",
    "#Przyjmuje ona argumenty: \n",
    "#F - funkcja F(s, g)\n",
    "#s_0 - początek przedziału\n",
    "#l - jego długość\n",
    "#n - liczba równoodległych punktów tworzących podział odcinka [s_0, s_0 + l]\n",
    "#g_0 - wartość g(s_0)\n",
    "#Funkcja zwraca tablicę rozmiaru n+1 z obliczonymi wartościami funkcji g w kolejnych punktach.\n",
    "\n",
    "#Runge_Kutta(F, s_0, g_0, kh) - Funkcja pomocnicza obliczająca przybliżoną wartość g(s_0 + kh) metodą Rungego-Kutty.\n",
    "\n",
    "#next_point(F, h, s_1, F0, F1, F2, F3, g_0) - Funkcja obliczająca przybliżoną wartość funkcji g w punkcie s_1\n",
    "#wzorami Adamsa-Bashfortha i Adamsa-Moultona. Argumenty F0, F1, F2, F3 to wartości funkcji F(s,g)\n",
    "#odpowiednio w punktach (s_i, g(s_i)), (s_{i-1}, g(s_{i-1})), (s_{i-2}, g(s_{i-2})), (s_{i-3}, g(s_{i-3})),\n",
    "#argument g_0 to wartość g w poprzednim punkcie.\n",
    "\n",
    "#Adams_Bashforth(h, F0, F1, F2, F3) - Funkcja pomocnicza implementująca wzór Adamsa-Bashfortha.\n",
    "#Adams_Moulton(h, F_1, F0, F1, F2) - Funkcja pomocnicza implementująca wzór Adamsa-Moultona."
   ]
  },
  {
   "cell_type": "code",
   "execution_count": 2,
   "metadata": {
    "scrolled": true
   },
   "outputs": [],
   "source": [
    "include(\"program.jl\")\n",
    "using Plots;\n",
    "using Printf;"
   ]
  },
  {
   "cell_type": "markdown",
   "metadata": {},
   "source": [
    "4.1. Badanie dokładności funkcji Adams_Bashforth oraz Adams_Moulton"
   ]
  },
  {
   "cell_type": "code",
   "execution_count": 3,
   "metadata": {
    "scrolled": true
   },
   "outputs": [
    {
     "data": {
      "text/plain": [
       "AB_test (generic function with 1 method)"
      ]
     },
     "execution_count": 3,
     "metadata": {},
     "output_type": "execute_result"
    }
   ],
   "source": [
    "#Wzór Adamsa - Bashfortha\n",
    "function AB_test(g, t, t1)\n",
    "    h  = t1 - t;\n",
    "    g0 = g(t);\n",
    "    g1 = g(t - h);\n",
    "    g2 = g(t - 2.0 * h);\n",
    "    g3 = g(t - 3.0 * h);\n",
    "    return Adams_Bashforth(h, g0, g1, g2, g3);\n",
    "end"
   ]
  },
  {
   "cell_type": "code",
   "execution_count": 4,
   "metadata": {
    "scrolled": true
   },
   "outputs": [
    {
     "name": "stdout",
     "output_type": "stream",
     "text": [
      "Przybliżenie F1 wynosi: 28.500000. Błąd względny to: 0.000000.\n",
      "Przybliżenie F2 wynosi: -4106.666667. Błąd względny to: 0.000008.\n",
      "Przybliżenie F3 wynosi: 0.000000. Błąd względny to: 1.000000.\n",
      "Przybliżenie F4 wynosi: 18782296036984825219045595708654837390408009366452338654351097632172452145149064379356558180992106617725869799109697516416364678697399421128634755452981041946952892154141891936383247518741955835848661913623595804922352825982847889948045967781527552.000000. Błąd względny to: 382119652510566085755595138076778973076166306561396697821284224037968831326381628445007752270082802267705082147646719415570578298493350544164450267434377346619649204840265354032668943018007967247186882335276843285488367880012545410414413990592512.000000.\n",
      "Przybliżenie F5 wynosi: 63.333333. Błąd względny to: 0.654231.\n",
      "Przybliżenie F6 wynosi: -69498115.166667. Błąd względny to: 54.083782.\n"
     ]
    }
   ],
   "source": [
    "function F1(x)\n",
    "    wyn = x^2.0 -3.0 * x + 10.0;\n",
    "    return wyn;\n",
    "end\n",
    "\n",
    "F1_wyn = 28.5;\n",
    "F1_ans = AB_test(F1, -1.0, 2.0);\n",
    "@printf(\"Przybliżenie F1 wynosi: %lf. Błąd względny to: %lf.\\n\", F1_ans, abs((F1_wyn - F1_ans)/F1_wyn));\n",
    "\n",
    "\n",
    "\n",
    "function F2(x)\n",
    "    wyn = x^3.0 - 7.0 * x^2.0 - 13.0 * x + 28.0;\n",
    "    return wyn;\n",
    "end\n",
    "F2_wyn = -4106.7;\n",
    "F2_ans = AB_test(F2, -10.0, 10.0);\n",
    "@printf(\"Przybliżenie F2 wynosi: %lf. Błąd względny to: %lf.\\n\", F2_ans, abs((F2_wyn - F2_ans)/F2_wyn));\n",
    "\n",
    "\n",
    "\n",
    "function F3(x)\n",
    "    wyn = cos(x);\n",
    "    return wyn;\n",
    "end\n",
    "\n",
    "F3_wyn = 2.0;\n",
    "F3_ans = AB_test(F3, -pi/2.0, pi/2.0);\n",
    "@printf(\"Przybliżenie F3 wynosi: %lf. Błąd względny to: %lf.\\n\", F3_ans, abs((F3_wyn - F3_ans)/F3_wyn));\n",
    "\n",
    "\n",
    "\n",
    "function F4(x)\n",
    "    wyn = x * 3.0 ^ (2.0 * x^2.0 + 3.0)\n",
    "    return wyn;\n",
    "end\n",
    "\n",
    "F4_wyn = 49.152918238;\n",
    "F4_ans = AB_test(F4, 2.0, 8.0);\n",
    "@printf(\"Przybliżenie F4 wynosi: %lf. Błąd względny to: %lf.\\n\", F4_ans, abs((F4_wyn - F4_ans)/F4_wyn));\n",
    "\n",
    "\n",
    "\n",
    "function F5(x)\n",
    "    if(x <= -2.0)\n",
    "        wyn = x^2.0 - 2.0;\n",
    "    end\n",
    "    if(-2.0 < x && x <= 1.0)\n",
    "        wyn = 2.0 * x^3.0 + 4.0 * x^2.0 - 7.0;\n",
    "    end\n",
    "    if(1.0 < x)\n",
    "        wyn = 5.0 * x^2.0 - 3.0 * x - 1.0;\n",
    "    end\n",
    "    return wyn;\n",
    "end\n",
    "\n",
    "F5_wyn = 183.0 + 1.0/6.0;\n",
    "F5_ans = AB_test(F5, -5.0, 5.0);\n",
    "@printf(\"Przybliżenie F5 wynosi: %lf. Błąd względny to: %lf.\\n\", F5_ans, abs((F5_wyn - F5_ans)/F5_wyn));\n",
    "\n",
    "\n",
    "\n",
    "function F6(x)\n",
    "    wyn = x^6.0 - 6.0 * x^4.0 + 10.0 * x + 30.0;\n",
    "    return wyn;\n",
    "end\n",
    "\n",
    "F6_wyn = 1309215.6;\n",
    "F6_ans = AB_test(F6, 3.0, 10.0);\n",
    "@printf(\"Przybliżenie F6 wynosi: %lf. Błąd względny to: %lf.\\n\", F6_ans, abs((F6_wyn - F6_ans)/F6_wyn));"
   ]
  },
  {
   "cell_type": "code",
   "execution_count": 5,
   "metadata": {
    "scrolled": true
   },
   "outputs": [
    {
     "data": {
      "text/plain": [
       "AM_test (generic function with 1 method)"
      ]
     },
     "execution_count": 5,
     "metadata": {},
     "output_type": "execute_result"
    }
   ],
   "source": [
    "#Wzór Adamsa-Moultona\n",
    "function AM_test(g, t, t1)\n",
    "    h  = t1 - t;\n",
    "    g_1= g(t + h);\n",
    "    g0 = g(t);\n",
    "    g1 = g(t - h);\n",
    "    g2 = g(t - 2.0 * h);\n",
    "    return Adams_Moulton(h, g_1, g0, g1, g2);\n",
    "end"
   ]
  },
  {
   "cell_type": "code",
   "execution_count": 6,
   "metadata": {
    "scrolled": true
   },
   "outputs": [
    {
     "name": "stdout",
     "output_type": "stream",
     "text": [
      "Przybliżenie F1 wynosi: 28.500000. Błąd względny to: 0.000000.\n",
      "Przybliżenie F2 wynosi: -4106.666667. Błąd względny to: 0.000008.\n",
      "Przybliżenie F3 wynosi: 0.000000. Błąd względny to: 1.000000.\n",
      "Przybliżenie F4 wynosi: -17928944249121549809864604667861985029360513636859815850734117727635863297036676416096990190895104.000000. Błąd względny to: 364758490275369390938138245837678504998750751507934612239023777391880847828213063484576203014144.000000.\n",
      "Przybliżenie F5 wynosi: 385.833333. Błąd względny to: 1.106460.\n",
      "Przybliżenie F6 wynosi: 2956861.833333. Błąd względny to: 1.258499.\n"
     ]
    }
   ],
   "source": [
    "function F1(x)\n",
    "    wyn = x^2.0 -3.0 * x + 10.0;\n",
    "    return wyn;\n",
    "end\n",
    "\n",
    "F1_wyn = 28.5;\n",
    "F1_ans = AM_test(F1, -1.0, 2.0);\n",
    "@printf(\"Przybliżenie F1 wynosi: %lf. Błąd względny to: %lf.\\n\", F1_ans, abs((F1_wyn - F1_ans)/F1_wyn));\n",
    "\n",
    "\n",
    "\n",
    "function F2(x)\n",
    "     wyn = x^3.0 - 7.0 * x^2.0 - 13.0 * x + 28.0;\n",
    "    return wyn;\n",
    "end\n",
    "F2_wyn = -4106.7;\n",
    "F2_ans = AM_test(F2, -10.0, 10.0);\n",
    "@printf(\"Przybliżenie F2 wynosi: %lf. Błąd względny to: %lf.\\n\", F2_ans, abs((F2_wyn - F2_ans)/F2_wyn));\n",
    "\n",
    "\n",
    "\n",
    "function F3(x)\n",
    "    wyn = cos(x);\n",
    "    return wyn;\n",
    "end\n",
    "\n",
    "F3_wyn = 2.0;\n",
    "F3_ans = AM_test(F3, -pi/2.0, pi/2.0);\n",
    "@printf(\"Przybliżenie F3 wynosi: %lf. Błąd względny to: %lf.\\n\", F3_ans, abs((F3_wyn - F3_ans)/F3_wyn));\n",
    "\n",
    "\n",
    "\n",
    "function F4(x)\n",
    "    wyn = x * 3.0 ^ (2.0 * x^2.0 + 3.0)\n",
    "    return wyn;\n",
    "end\n",
    "\n",
    "F4_wyn = 49.152918238;\n",
    "F4_ans = AM_test(F4, 2.0, 8.0);\n",
    "@printf(\"Przybliżenie F4 wynosi: %lf. Błąd względny to: %lf.\\n\", F4_ans, abs((F4_wyn - F4_ans)/F4_wyn));\n",
    "\n",
    "\n",
    "\n",
    "function F5(x)\n",
    "    if(x <= -2.0)\n",
    "        wyn = x^2.0 - 2.0;\n",
    "    end\n",
    "    if(-2.0 < x && x <= 1.0)\n",
    "        wyn = 2.0 * x^3.0 + 4.0 * x^2.0 - 7.0;\n",
    "    end\n",
    "    if(1.0 < x)\n",
    "        wyn = 5.0 * x^2.0 - 3.0 * x - 1.0;\n",
    "    end\n",
    "    return wyn;\n",
    "end\n",
    "\n",
    "F5_wyn = 183.0 + 1.0/6.0;\n",
    "F5_ans = AM_test(F5, -5.0, 5.0);\n",
    "@printf(\"Przybliżenie F5 wynosi: %lf. Błąd względny to: %lf.\\n\", F5_ans, abs((F5_wyn - F5_ans)/F5_wyn));\n",
    "\n",
    "\n",
    "\n",
    "function F6(x)\n",
    "    wyn = x^6.0 - 6.0 * x^4.0 + 10.0 * x + 30.0;\n",
    "    return wyn;\n",
    "end\n",
    "\n",
    "F6_wyn = 1309215.6;\n",
    "F6_ans = AM_test(F6, 3.0, 10.0);\n",
    "@printf(\"Przybliżenie F6 wynosi: %lf. Błąd względny to: %lf.\\n\", F6_ans, abs((F6_wyn - F6_ans)/F6_wyn));"
   ]
  },
  {
   "cell_type": "markdown",
   "metadata": {},
   "source": [
    "4.2. Badanie dokładności implementacji algorytmu wyznaczania przybliżonych rozwiązań równań różniczkowych zwyczajnych pierwszego rzędu"
   ]
  },
  {
   "cell_type": "markdown",
   "metadata": {},
   "source": [
    "4.2.1. F(s,g) = g"
   ]
  },
  {
   "cell_type": "code",
   "execution_count": 7,
   "metadata": {
    "scrolled": true
   },
   "outputs": [
    {
     "name": "stdout",
     "output_type": "stream",
     "text": [
      "Max error for n=40 is 3.992463502734719e-6\n",
      "Max error for n=100 is 4.565562466298286e-8\n",
      "Max error for n=100000 is 2.946679837315233e-14\n"
     ]
    }
   ],
   "source": [
    "#-------------Input data--------------------------\n",
    "function F(s,g)\n",
    "    return g;\n",
    "end\n",
    "\n",
    "function g(s)\n",
    "    return(2.0 * exp(s));\n",
    "end\n",
    "\n",
    "s_0 = 0.0;\n",
    "l   = 3.0\n",
    "g_0 = 2.0;\n",
    "\n",
    "#-------------------------------------------------\n",
    "\n",
    "n=100000;\n",
    "N = Array{Float64}(undef, n+1);\n",
    "for i in 1:(n+1)\n",
    "    N[i] = s_0 + Float64(i-1) * l/Float64(n);\n",
    "end\n",
    "\n",
    "G1 = Array{Float64}(undef, n+1);\n",
    "for i in 1:(n+1)\n",
    "    G1[i] = g(N[i]);\n",
    "end\n",
    "\n",
    "n=40;\n",
    "G_max = 0;\n",
    "N = Array{Float64}(undef, n+1);\n",
    "for i in 1:(n+1)\n",
    "    N[i] = s_0 + Float64(i-1) * l/Float64(n);\n",
    "end\n",
    "G = algorithm(F, s_0, g_0, l, n);\n",
    "for i in 1:41\n",
    "    G[i] = abs((G[i]-G1[2500*(i-1)+1])/G1[2500*(i-1)+1]);\n",
    "    G_max = max(G_max, G[i]);\n",
    "end\n",
    "plot(N, G, line=(color=:red), label = \"n=40\", legend=:right, xlabel=\"\\$s\\$\");\n",
    "@printf(\"Max error for n=40 is \");\n",
    "println(G_max);\n",
    "\n",
    "\n",
    "n=100;\n",
    "G_max = 0;\n",
    "N = Array{Float64}(undef, n+1);\n",
    "for i in 1:(n+1)\n",
    "    N[i] = s_0 + Float64(i-1) * l/Float64(n);\n",
    "end\n",
    "G = algorithm(F, s_0, g_0, l, n);\n",
    "for i in 1:101\n",
    "    G[i] = abs((G[i]-G1[1000*(i-1)+1])/G1[1000*(i-1)+1]);\n",
    "    G_max = max(G_max, G[i]);\n",
    "end\n",
    "plot!(N, G, line=(color=:black), label = \"n=100\", legend=:right, xlabel=\"\\$s\\$\");\n",
    "@printf(\"Max error for n=100 is \");\n",
    "println(G_max);\n",
    "\n",
    "\n",
    "n=100000;\n",
    "G_max = 0;\n",
    "N = Array{Float64}(undef, n+1);\n",
    "for i in 1:(n+1)\n",
    "    N[i] = s_0 + Float64(i-1) * l/Float64(n);\n",
    "end\n",
    "G = algorithm(F, s_0, g_0, l, n);\n",
    "for i in 1:100001\n",
    "    G[i] = abs((G[i]-G1[i])/G1[i]);\n",
    "    G_max = max(G_max, G[i]);\n",
    "end\n",
    "plot!(N, G, line=(color=:yellow), label = \"n=100000\", legend=:right, xlabel=\"\\$s\\$\");\n",
    "@printf(\"Max error for n=100000 is \");\n",
    "println(G_max);"
   ]
  },
  {
   "cell_type": "code",
   "execution_count": 8,
   "metadata": {},
   "outputs": [],
   "source": [
    "savefig(\"F1_error.png\");"
   ]
  },
  {
   "cell_type": "markdown",
   "metadata": {},
   "source": [
    "4.2.2. F(s,g) = g(5-g)"
   ]
  },
  {
   "cell_type": "code",
   "execution_count": 9,
   "metadata": {},
   "outputs": [
    {
     "name": "stdout",
     "output_type": "stream",
     "text": [
      "Max error for n=40 is 0.00023180551056187386\n",
      "Max error for n=100 is 3.8088835028460717e-6\n",
      "Max error for n=100000 is 8.050460443395788e-15\n"
     ]
    }
   ],
   "source": [
    "#-------------Input data--------------------------\n",
    "function F(s,g)\n",
    "    return (g * (5 - g));\n",
    "end\n",
    "\n",
    "function g(s)\n",
    "    a = exp(5 * s);\n",
    "    wyn = a / (4 + a);\n",
    "    return (5 * wyn);\n",
    "end\n",
    "\n",
    "s_0 = 0.0;\n",
    "l   = 2.0\n",
    "g_0 = 1.0;\n",
    "\n",
    "#-------------------------------------------------\n",
    "\n",
    "n=100000;\n",
    "N = Array{Float64}(undef, n+1);\n",
    "for i in 1:(n+1)\n",
    "    N[i] = s_0 + Float64(i-1) * l/Float64(n);\n",
    "end\n",
    "\n",
    "G1 = Array{Float64}(undef, n+1);\n",
    "for i in 1:(n+1)\n",
    "    G1[i] = g(N[i]);\n",
    "end\n",
    "\n",
    "n=40;\n",
    "G_max = 0;\n",
    "N = Array{Float64}(undef, n+1);\n",
    "for i in 1:(n+1)\n",
    "    N[i] = s_0 + Float64(i-1) * l/Float64(n);\n",
    "end\n",
    "G = algorithm(F, s_0, g_0, l, n);\n",
    "for i in 1:41\n",
    "    G[i] = abs((G[i]-G1[2500*(i-1)+1])/G1[2500*(i-1)+1]);\n",
    "    G_max = max(G_max, G[i]);\n",
    "end\n",
    "plot(N, G, line=(color=:red), label = \"n=40\", legend=:topright, xlabel=\"\\$s\\$\");\n",
    "@printf(\"Max error for n=40 is \");\n",
    "println(G_max);\n",
    "\n",
    "\n",
    "n=100;\n",
    "G_max = 0;\n",
    "N = Array{Float64}(undef, n+1);\n",
    "for i in 1:(n+1)\n",
    "    N[i] = s_0 + Float64(i-1) * l/Float64(n);\n",
    "end\n",
    "G = algorithm(F, s_0, g_0, l, n);\n",
    "for i in 1:101\n",
    "    G[i] = abs((G[i]-G1[1000*(i-1)+1])/G1[1000*(i-1)+1]);\n",
    "    G_max = max(G_max, G[i]);\n",
    "end\n",
    "plot!(N, G, line=(color=:black), label = \"n=100\", legend=:topright, xlabel=\"\\$s\\$\");\n",
    "@printf(\"Max error for n=100 is \");\n",
    "println(G_max);\n",
    "\n",
    "\n",
    "n=100000;\n",
    "G_max = 0;\n",
    "N = Array{Float64}(undef, n+1);\n",
    "for i in 1:(n+1)\n",
    "    N[i] = s_0 + Float64(i-1) * l/Float64(n);\n",
    "end\n",
    "G = algorithm(F, s_0, g_0, l, n);\n",
    "for i in 1:100001\n",
    "    G[i] = abs((G[i]-G1[i])/G1[i]);\n",
    "    G_max = max(G_max, G[i]);\n",
    "end\n",
    "plot!(N, G, line=(color=:yellow), label = \"n=100000\", legend=:topright, xlabel=\"\\$s\\$\");\n",
    "@printf(\"Max error for n=100000 is \");\n",
    "println(G_max);"
   ]
  },
  {
   "cell_type": "code",
   "execution_count": 10,
   "metadata": {},
   "outputs": [],
   "source": [
    "savefig(\"F2_error.png\");"
   ]
  },
  {
   "cell_type": "markdown",
   "metadata": {},
   "source": [
    "4.2.3. F(s,g) = g^3"
   ]
  },
  {
   "cell_type": "code",
   "execution_count": 11,
   "metadata": {},
   "outputs": [
    {
     "name": "stdout",
     "output_type": "stream",
     "text": [
      "Max error for n=40 is 8.793423717598732e-5\n",
      "Max error for n=100 is 7.609831719700792e-6\n",
      "Max error for n=100000 is 4.8583489453009644e-14\n"
     ]
    }
   ],
   "source": [
    "#-------------Input data--------------------------\n",
    "function F(s,g)\n",
    "    return (g^(3.0));\n",
    "end\n",
    "\n",
    "function g(s)\n",
    "    a = 2 * (11 - s);\n",
    "    wyn = 1/a^(1/2);\n",
    "    return wyn;\n",
    "end\n",
    "\n",
    "s_0 = 1.0;\n",
    "l   = 9.0\n",
    "g_0 = 1.0/20.0^(1.0/2.0);\n",
    "\n",
    "#-------------------------------------------------\n",
    "\n",
    "n=100000;\n",
    "N = Array{Float64}(undef, n+1);\n",
    "for i in 1:(n+1)\n",
    "    N[i] = s_0 + Float64(i-1) * l/Float64(n);\n",
    "end\n",
    "\n",
    "G1 = Array{Float64}(undef, n+1);\n",
    "for i in 1:(n+1)\n",
    "    G1[i] = g(N[i]);\n",
    "end\n",
    "\n",
    "n=40;\n",
    "G_max = 0;\n",
    "N = Array{Float64}(undef, n+1);\n",
    "for i in 1:(n+1)\n",
    "    N[i] = s_0 + Float64(i-1) * l/Float64(n);\n",
    "end\n",
    "G = algorithm(F, s_0, g_0, l, n);\n",
    "for i in 1:41\n",
    "    G[i] = abs((G[i]-G1[2500*(i-1)+1])/G1[2500*(i-1)+1]);\n",
    "    G_max = max(G_max, G[i]);\n",
    "end\n",
    "plot(N, G, line=(color=:red), label = \"n=40\", legend=:topleft, xlabel=\"\\$s\\$\");\n",
    "@printf(\"Max error for n=40 is \");\n",
    "println(G_max);\n",
    "\n",
    "\n",
    "n=100;\n",
    "G_max = 0;\n",
    "N = Array{Float64}(undef, n+1);\n",
    "for i in 1:(n+1)\n",
    "    N[i] = s_0 + Float64(i-1) * l/Float64(n);\n",
    "end\n",
    "G = algorithm(F, s_0, g_0, l, n);\n",
    "for i in 1:101\n",
    "    G[i] = abs((G[i]-G1[1000*(i-1)+1])/G1[1000*(i-1)+1]);\n",
    "    G_max = max(G_max, G[i]);\n",
    "end\n",
    "plot!(N, G, line=(color=:black), label = \"n=100\", legend=:topleft, xlabel=\"\\$s\\$\");\n",
    "@printf(\"Max error for n=100 is \");\n",
    "println(G_max);    \n",
    "\n",
    "\n",
    "n=100000;\n",
    "G_max = 0;\n",
    "N = Array{Float64}(undef, n+1);\n",
    "for i in 1:(n+1)\n",
    "    N[i] = s_0 + Float64(i-1) * l/Float64(n);\n",
    "end\n",
    "G = algorithm(F, s_0, g_0, l, n);\n",
    "for i in 1:100001\n",
    "    G[i] = abs((G[i]-G1[i])/G1[i]);\n",
    "    G_max = max(G_max, G[i]);\n",
    "end\n",
    "plot!(N, G, line=(color=:yellow), label = \"n=100000\", legend=:topleft, xlabel=\"\\$s\\$\");\n",
    "@printf(\"Max error for n=100000 is \");\n",
    "println(G_max);"
   ]
  },
  {
   "cell_type": "code",
   "execution_count": 12,
   "metadata": {},
   "outputs": [],
   "source": [
    "savefig(\"F3_error.png\");"
   ]
  }
 ],
 "metadata": {
  "kernelspec": {
   "display_name": "Julia 1.0.1",
   "language": "julia",
   "name": "julia-1.0"
  },
  "language_info": {
   "file_extension": ".jl",
   "mimetype": "application/julia",
   "name": "julia",
   "version": "1.0.1"
  }
 },
 "nbformat": 4,
 "nbformat_minor": 2
}
